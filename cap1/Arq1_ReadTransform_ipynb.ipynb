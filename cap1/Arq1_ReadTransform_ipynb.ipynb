{
  "nbformat": 4,
  "nbformat_minor": 0,
  "metadata": {
    "colab": {
      "name": "Arq1_ReadTransform.ipynb.ipynb",
      "provenance": [],
      "authorship_tag": "ABX9TyOjlMmf2y1YmzGP0Yzxd+QP",
      "include_colab_link": true
    },
    "kernelspec": {
      "name": "python3",
      "display_name": "Python 3"
    },
    "language_info": {
      "name": "python"
    }
  },
  "cells": [
    {
      "cell_type": "markdown",
      "metadata": {
        "id": "view-in-github",
        "colab_type": "text"
      },
      "source": [
        "<a href=\"https://colab.research.google.com/github/HedersonSantos/beam/blob/main/cap1/Arq1_ReadTransform_ipynb.ipynb\" target=\"_parent\"><img src=\"https://colab.research.google.com/assets/colab-badge.svg\" alt=\"Open In Colab\"/></a>"
      ]
    },
    {
      "cell_type": "code",
      "execution_count": 2,
      "metadata": {
        "colab": {
          "base_uri": "https://localhost:8080/",
          "height": 1000
        },
        "id": "byHqXIMdK6i6",
        "outputId": "cca15110-6cee-4c4f-fcdc-ade517f28590"
      },
      "outputs": [
        {
          "output_type": "stream",
          "name": "stdout",
          "text": [
            "Collecting apache-beam[interactive]\n",
            "  Downloading apache_beam-2.37.0-cp37-cp37m-manylinux2010_x86_64.whl (10.1 MB)\n",
            "\u001b[K     |████████████████████████████████| 10.1 MB 9.6 MB/s \n",
            "\u001b[?25hCollecting dill<0.3.2,>=0.3.1.1\n",
            "  Downloading dill-0.3.1.1.tar.gz (151 kB)\n",
            "\u001b[K     |████████████████████████████████| 151 kB 44.1 MB/s \n",
            "\u001b[?25hRequirement already satisfied: numpy<1.22.0,>=1.14.3 in /usr/local/lib/python3.7/dist-packages (from apache-beam[interactive]) (1.21.5)\n",
            "Collecting requests<3.0.0,>=2.24.0\n",
            "  Downloading requests-2.27.1-py2.py3-none-any.whl (63 kB)\n",
            "\u001b[K     |████████████████████████████████| 63 kB 1.5 MB/s \n",
            "\u001b[?25hRequirement already satisfied: httplib2<0.20.0,>=0.8 in /usr/local/lib/python3.7/dist-packages (from apache-beam[interactive]) (0.17.4)\n",
            "Collecting hdfs<3.0.0,>=2.1.0\n",
            "  Downloading hdfs-2.7.0-py3-none-any.whl (34 kB)\n",
            "Requirement already satisfied: pydot<2,>=1.2.0 in /usr/local/lib/python3.7/dist-packages (from apache-beam[interactive]) (1.3.0)\n",
            "Collecting orjson<4.0\n",
            "  Downloading orjson-3.6.7-cp37-cp37m-manylinux_2_24_x86_64.whl (255 kB)\n",
            "\u001b[K     |████████████████████████████████| 255 kB 66.9 MB/s \n",
            "\u001b[?25hRequirement already satisfied: oauth2client<5,>=2.0.1 in /usr/local/lib/python3.7/dist-packages (from apache-beam[interactive]) (4.1.3)\n",
            "Requirement already satisfied: crcmod<2.0,>=1.7 in /usr/local/lib/python3.7/dist-packages (from apache-beam[interactive]) (1.7)\n",
            "Requirement already satisfied: protobuf<4,>=3.12.2 in /usr/local/lib/python3.7/dist-packages (from apache-beam[interactive]) (3.17.3)\n",
            "Collecting cloudpickle<3,>=2.0.0\n",
            "  Downloading cloudpickle-2.0.0-py3-none-any.whl (25 kB)\n",
            "Collecting proto-plus<2,>=1.7.1\n",
            "  Downloading proto_plus-1.20.3-py3-none-any.whl (46 kB)\n",
            "\u001b[K     |████████████████████████████████| 46 kB 3.0 MB/s \n",
            "\u001b[?25hCollecting fastavro<2,>=0.23.6\n",
            "  Downloading fastavro-1.4.10-cp37-cp37m-manylinux_2_17_x86_64.manylinux2014_x86_64.whl (2.3 MB)\n",
            "\u001b[K     |████████████████████████████████| 2.3 MB 41.4 MB/s \n",
            "\u001b[?25hRequirement already satisfied: pytz>=2018.3 in /usr/local/lib/python3.7/dist-packages (from apache-beam[interactive]) (2018.9)\n",
            "Requirement already satisfied: pyarrow<7.0.0,>=0.15.1 in /usr/local/lib/python3.7/dist-packages (from apache-beam[interactive]) (6.0.1)\n",
            "Requirement already satisfied: typing-extensions>=3.7.0 in /usr/local/lib/python3.7/dist-packages (from apache-beam[interactive]) (3.10.0.2)\n",
            "Requirement already satisfied: python-dateutil<3,>=2.8.0 in /usr/local/lib/python3.7/dist-packages (from apache-beam[interactive]) (2.8.2)\n",
            "Requirement already satisfied: grpcio<2,>=1.29.0 in /usr/local/lib/python3.7/dist-packages (from apache-beam[interactive]) (1.44.0)\n",
            "Collecting pymongo<4.0.0,>=3.8.0\n",
            "  Downloading pymongo-3.12.3-cp37-cp37m-manylinux_2_17_x86_64.manylinux2014_x86_64.whl (508 kB)\n",
            "\u001b[K     |████████████████████████████████| 508 kB 53.5 MB/s \n",
            "\u001b[?25hCollecting facets-overview<2,>=1.0.0\n",
            "  Downloading facets_overview-1.0.0-py2.py3-none-any.whl (24 kB)\n",
            "Requirement already satisfied: ipywidgets<8,>=7.6.5 in /usr/local/lib/python3.7/dist-packages (from apache-beam[interactive]) (7.7.0)\n",
            "Collecting timeloop<2,>=1.0.2\n",
            "  Downloading timeloop-1.0.2.tar.gz (2.9 kB)\n",
            "Collecting jupyter-client<6.1.13,>=6.1.11\n",
            "  Downloading jupyter_client-6.1.12-py3-none-any.whl (112 kB)\n",
            "\u001b[K     |████████████████████████████████| 112 kB 42.2 MB/s \n",
            "\u001b[?25hCollecting ipykernel<6,>=5.2.0\n",
            "  Downloading ipykernel-5.5.6-py3-none-any.whl (121 kB)\n",
            "\u001b[K     |████████████████████████████████| 121 kB 56.8 MB/s \n",
            "\u001b[?25hCollecting ipython<8,>=7\n",
            "  Downloading ipython-7.32.0-py3-none-any.whl (793 kB)\n",
            "\u001b[K     |████████████████████████████████| 793 kB 44.3 MB/s \n",
            "\u001b[?25hRequirement already satisfied: pandas>=0.22.0 in /usr/local/lib/python3.7/dist-packages (from facets-overview<2,>=1.0.0->apache-beam[interactive]) (1.3.5)\n",
            "Requirement already satisfied: six>=1.5.2 in /usr/local/lib/python3.7/dist-packages (from grpcio<2,>=1.29.0->apache-beam[interactive]) (1.15.0)\n",
            "Requirement already satisfied: docopt in /usr/local/lib/python3.7/dist-packages (from hdfs<3.0.0,>=2.1.0->apache-beam[interactive]) (0.6.2)\n",
            "Requirement already satisfied: ipython-genutils in /usr/local/lib/python3.7/dist-packages (from ipykernel<6,>=5.2.0->apache-beam[interactive]) (0.2.0)\n",
            "Requirement already satisfied: tornado>=4.2 in /usr/local/lib/python3.7/dist-packages (from ipykernel<6,>=5.2.0->apache-beam[interactive]) (5.1.1)\n",
            "Requirement already satisfied: traitlets>=4.1.0 in /usr/local/lib/python3.7/dist-packages (from ipykernel<6,>=5.2.0->apache-beam[interactive]) (5.1.1)\n",
            "Requirement already satisfied: matplotlib-inline in /usr/local/lib/python3.7/dist-packages (from ipython<8,>=7->apache-beam[interactive]) (0.1.3)\n",
            "Requirement already satisfied: pickleshare in /usr/local/lib/python3.7/dist-packages (from ipython<8,>=7->apache-beam[interactive]) (0.7.5)\n",
            "Requirement already satisfied: decorator in /usr/local/lib/python3.7/dist-packages (from ipython<8,>=7->apache-beam[interactive]) (4.4.2)\n",
            "Requirement already satisfied: jedi>=0.16 in /usr/local/lib/python3.7/dist-packages (from ipython<8,>=7->apache-beam[interactive]) (0.18.1)\n",
            "Requirement already satisfied: pygments in /usr/local/lib/python3.7/dist-packages (from ipython<8,>=7->apache-beam[interactive]) (2.6.1)\n",
            "Requirement already satisfied: pexpect>4.3 in /usr/local/lib/python3.7/dist-packages (from ipython<8,>=7->apache-beam[interactive]) (4.8.0)\n",
            "Requirement already satisfied: setuptools>=18.5 in /usr/local/lib/python3.7/dist-packages (from ipython<8,>=7->apache-beam[interactive]) (57.4.0)\n",
            "Requirement already satisfied: backcall in /usr/local/lib/python3.7/dist-packages (from ipython<8,>=7->apache-beam[interactive]) (0.2.0)\n",
            "Collecting prompt-toolkit!=3.0.0,!=3.0.1,<3.1.0,>=2.0.0\n",
            "  Downloading prompt_toolkit-3.0.28-py3-none-any.whl (380 kB)\n",
            "\u001b[K     |████████████████████████████████| 380 kB 52.4 MB/s \n",
            "\u001b[?25hRequirement already satisfied: jupyterlab-widgets>=1.0.0 in /usr/local/lib/python3.7/dist-packages (from ipywidgets<8,>=7.6.5->apache-beam[interactive]) (1.1.0)\n",
            "Requirement already satisfied: widgetsnbextension~=3.6.0 in /usr/local/lib/python3.7/dist-packages (from ipywidgets<8,>=7.6.5->apache-beam[interactive]) (3.6.0)\n",
            "Requirement already satisfied: nbformat>=4.2.0 in /usr/local/lib/python3.7/dist-packages (from ipywidgets<8,>=7.6.5->apache-beam[interactive]) (5.2.0)\n",
            "Requirement already satisfied: parso<0.9.0,>=0.8.0 in /usr/local/lib/python3.7/dist-packages (from jedi>=0.16->ipython<8,>=7->apache-beam[interactive]) (0.8.3)\n",
            "Requirement already satisfied: jupyter-core>=4.6.0 in /usr/local/lib/python3.7/dist-packages (from jupyter-client<6.1.13,>=6.1.11->apache-beam[interactive]) (4.9.2)\n",
            "Requirement already satisfied: pyzmq>=13 in /usr/local/lib/python3.7/dist-packages (from jupyter-client<6.1.13,>=6.1.11->apache-beam[interactive]) (22.3.0)\n",
            "Requirement already satisfied: jsonschema!=2.5.0,>=2.4 in /usr/local/lib/python3.7/dist-packages (from nbformat>=4.2.0->ipywidgets<8,>=7.6.5->apache-beam[interactive]) (4.3.3)\n",
            "Requirement already satisfied: importlib-resources>=1.4.0 in /usr/local/lib/python3.7/dist-packages (from jsonschema!=2.5.0,>=2.4->nbformat>=4.2.0->ipywidgets<8,>=7.6.5->apache-beam[interactive]) (5.4.0)\n",
            "Requirement already satisfied: importlib-metadata in /usr/local/lib/python3.7/dist-packages (from jsonschema!=2.5.0,>=2.4->nbformat>=4.2.0->ipywidgets<8,>=7.6.5->apache-beam[interactive]) (4.11.3)\n",
            "Requirement already satisfied: pyrsistent!=0.17.0,!=0.17.1,!=0.17.2,>=0.14.0 in /usr/local/lib/python3.7/dist-packages (from jsonschema!=2.5.0,>=2.4->nbformat>=4.2.0->ipywidgets<8,>=7.6.5->apache-beam[interactive]) (0.18.1)\n",
            "Requirement already satisfied: attrs>=17.4.0 in /usr/local/lib/python3.7/dist-packages (from jsonschema!=2.5.0,>=2.4->nbformat>=4.2.0->ipywidgets<8,>=7.6.5->apache-beam[interactive]) (21.4.0)\n",
            "Requirement already satisfied: zipp>=3.1.0 in /usr/local/lib/python3.7/dist-packages (from importlib-resources>=1.4.0->jsonschema!=2.5.0,>=2.4->nbformat>=4.2.0->ipywidgets<8,>=7.6.5->apache-beam[interactive]) (3.7.0)\n",
            "Requirement already satisfied: rsa>=3.1.4 in /usr/local/lib/python3.7/dist-packages (from oauth2client<5,>=2.0.1->apache-beam[interactive]) (4.8)\n",
            "Requirement already satisfied: pyasn1-modules>=0.0.5 in /usr/local/lib/python3.7/dist-packages (from oauth2client<5,>=2.0.1->apache-beam[interactive]) (0.2.8)\n",
            "Requirement already satisfied: pyasn1>=0.1.7 in /usr/local/lib/python3.7/dist-packages (from oauth2client<5,>=2.0.1->apache-beam[interactive]) (0.4.8)\n",
            "Requirement already satisfied: ptyprocess>=0.5 in /usr/local/lib/python3.7/dist-packages (from pexpect>4.3->ipython<8,>=7->apache-beam[interactive]) (0.7.0)\n",
            "Requirement already satisfied: wcwidth in /usr/local/lib/python3.7/dist-packages (from prompt-toolkit!=3.0.0,!=3.0.1,<3.1.0,>=2.0.0->ipython<8,>=7->apache-beam[interactive]) (0.2.5)\n",
            "Collecting protobuf<4,>=3.12.2\n",
            "  Downloading protobuf-3.19.4-cp37-cp37m-manylinux_2_17_x86_64.manylinux2014_x86_64.whl (1.1 MB)\n",
            "\u001b[K     |████████████████████████████████| 1.1 MB 41.6 MB/s \n",
            "\u001b[?25hRequirement already satisfied: pyparsing>=2.1.4 in /usr/local/lib/python3.7/dist-packages (from pydot<2,>=1.2.0->apache-beam[interactive]) (3.0.7)\n",
            "Requirement already satisfied: certifi>=2017.4.17 in /usr/local/lib/python3.7/dist-packages (from requests<3.0.0,>=2.24.0->apache-beam[interactive]) (2021.10.8)\n",
            "Requirement already satisfied: idna<4,>=2.5 in /usr/local/lib/python3.7/dist-packages (from requests<3.0.0,>=2.24.0->apache-beam[interactive]) (2.10)\n",
            "Requirement already satisfied: charset-normalizer~=2.0.0 in /usr/local/lib/python3.7/dist-packages (from requests<3.0.0,>=2.24.0->apache-beam[interactive]) (2.0.12)\n",
            "Requirement already satisfied: urllib3<1.27,>=1.21.1 in /usr/local/lib/python3.7/dist-packages (from requests<3.0.0,>=2.24.0->apache-beam[interactive]) (1.24.3)\n",
            "Requirement already satisfied: notebook>=4.4.1 in /usr/local/lib/python3.7/dist-packages (from widgetsnbextension~=3.6.0->ipywidgets<8,>=7.6.5->apache-beam[interactive]) (5.3.1)\n",
            "Requirement already satisfied: nbconvert in /usr/local/lib/python3.7/dist-packages (from notebook>=4.4.1->widgetsnbextension~=3.6.0->ipywidgets<8,>=7.6.5->apache-beam[interactive]) (5.6.1)\n",
            "Requirement already satisfied: jinja2 in /usr/local/lib/python3.7/dist-packages (from notebook>=4.4.1->widgetsnbextension~=3.6.0->ipywidgets<8,>=7.6.5->apache-beam[interactive]) (2.11.3)\n",
            "Requirement already satisfied: terminado>=0.8.1 in /usr/local/lib/python3.7/dist-packages (from notebook>=4.4.1->widgetsnbextension~=3.6.0->ipywidgets<8,>=7.6.5->apache-beam[interactive]) (0.13.3)\n",
            "Requirement already satisfied: Send2Trash in /usr/local/lib/python3.7/dist-packages (from notebook>=4.4.1->widgetsnbextension~=3.6.0->ipywidgets<8,>=7.6.5->apache-beam[interactive]) (1.8.0)\n",
            "Requirement already satisfied: MarkupSafe>=0.23 in /usr/local/lib/python3.7/dist-packages (from jinja2->notebook>=4.4.1->widgetsnbextension~=3.6.0->ipywidgets<8,>=7.6.5->apache-beam[interactive]) (2.0.1)\n",
            "Requirement already satisfied: mistune<2,>=0.8.1 in /usr/local/lib/python3.7/dist-packages (from nbconvert->notebook>=4.4.1->widgetsnbextension~=3.6.0->ipywidgets<8,>=7.6.5->apache-beam[interactive]) (0.8.4)\n",
            "Requirement already satisfied: pandocfilters>=1.4.1 in /usr/local/lib/python3.7/dist-packages (from nbconvert->notebook>=4.4.1->widgetsnbextension~=3.6.0->ipywidgets<8,>=7.6.5->apache-beam[interactive]) (1.5.0)\n",
            "Requirement already satisfied: testpath in /usr/local/lib/python3.7/dist-packages (from nbconvert->notebook>=4.4.1->widgetsnbextension~=3.6.0->ipywidgets<8,>=7.6.5->apache-beam[interactive]) (0.6.0)\n",
            "Requirement already satisfied: defusedxml in /usr/local/lib/python3.7/dist-packages (from nbconvert->notebook>=4.4.1->widgetsnbextension~=3.6.0->ipywidgets<8,>=7.6.5->apache-beam[interactive]) (0.7.1)\n",
            "Requirement already satisfied: entrypoints>=0.2.2 in /usr/local/lib/python3.7/dist-packages (from nbconvert->notebook>=4.4.1->widgetsnbextension~=3.6.0->ipywidgets<8,>=7.6.5->apache-beam[interactive]) (0.4)\n",
            "Requirement already satisfied: bleach in /usr/local/lib/python3.7/dist-packages (from nbconvert->notebook>=4.4.1->widgetsnbextension~=3.6.0->ipywidgets<8,>=7.6.5->apache-beam[interactive]) (4.1.0)\n",
            "Requirement already satisfied: packaging in /usr/local/lib/python3.7/dist-packages (from bleach->nbconvert->notebook>=4.4.1->widgetsnbextension~=3.6.0->ipywidgets<8,>=7.6.5->apache-beam[interactive]) (21.3)\n",
            "Requirement already satisfied: webencodings in /usr/local/lib/python3.7/dist-packages (from bleach->nbconvert->notebook>=4.4.1->widgetsnbextension~=3.6.0->ipywidgets<8,>=7.6.5->apache-beam[interactive]) (0.5.1)\n",
            "Building wheels for collected packages: dill, timeloop\n",
            "  Building wheel for dill (setup.py) ... \u001b[?25l\u001b[?25hdone\n",
            "  Created wheel for dill: filename=dill-0.3.1.1-py3-none-any.whl size=78544 sha256=323a786acbcf9d317c6bc586064db6d9cea97192515b605ca7f762898e07591d\n",
            "  Stored in directory: /root/.cache/pip/wheels/a4/61/fd/c57e374e580aa78a45ed78d5859b3a44436af17e22ca53284f\n",
            "  Building wheel for timeloop (setup.py) ... \u001b[?25l\u001b[?25hdone\n",
            "  Created wheel for timeloop: filename=timeloop-1.0.2-py3-none-any.whl size=3720 sha256=aed4c9a834453bf10e408db8d29729eadd9f34786e4af3435ad1afe6128ccc63\n",
            "  Stored in directory: /root/.cache/pip/wheels/3a/7e/fc/5e4d6da12b9ab6550604412936723ec6f2faf7391dd6726a01\n",
            "Successfully built dill timeloop\n",
            "Installing collected packages: prompt-toolkit, jupyter-client, ipython, ipykernel, requests, protobuf, pymongo, proto-plus, orjson, hdfs, fastavro, dill, cloudpickle, timeloop, facets-overview, apache-beam\n",
            "  Attempting uninstall: prompt-toolkit\n",
            "    Found existing installation: prompt-toolkit 1.0.18\n",
            "    Uninstalling prompt-toolkit-1.0.18:\n",
            "      Successfully uninstalled prompt-toolkit-1.0.18\n",
            "  Attempting uninstall: jupyter-client\n",
            "    Found existing installation: jupyter-client 5.3.5\n",
            "    Uninstalling jupyter-client-5.3.5:\n",
            "      Successfully uninstalled jupyter-client-5.3.5\n",
            "  Attempting uninstall: ipython\n",
            "    Found existing installation: ipython 5.5.0\n",
            "    Uninstalling ipython-5.5.0:\n",
            "      Successfully uninstalled ipython-5.5.0\n",
            "  Attempting uninstall: ipykernel\n",
            "    Found existing installation: ipykernel 4.10.1\n",
            "    Uninstalling ipykernel-4.10.1:\n",
            "      Successfully uninstalled ipykernel-4.10.1\n",
            "  Attempting uninstall: requests\n",
            "    Found existing installation: requests 2.23.0\n",
            "    Uninstalling requests-2.23.0:\n",
            "      Successfully uninstalled requests-2.23.0\n",
            "  Attempting uninstall: protobuf\n",
            "    Found existing installation: protobuf 3.17.3\n",
            "    Uninstalling protobuf-3.17.3:\n",
            "      Successfully uninstalled protobuf-3.17.3\n",
            "  Attempting uninstall: pymongo\n",
            "    Found existing installation: pymongo 4.0.2\n",
            "    Uninstalling pymongo-4.0.2:\n",
            "      Successfully uninstalled pymongo-4.0.2\n",
            "  Attempting uninstall: dill\n",
            "    Found existing installation: dill 0.3.4\n",
            "    Uninstalling dill-0.3.4:\n",
            "      Successfully uninstalled dill-0.3.4\n",
            "  Attempting uninstall: cloudpickle\n",
            "    Found existing installation: cloudpickle 1.3.0\n",
            "    Uninstalling cloudpickle-1.3.0:\n",
            "      Successfully uninstalled cloudpickle-1.3.0\n",
            "\u001b[31mERROR: pip's dependency resolver does not currently take into account all the packages that are installed. This behaviour is the source of the following dependency conflicts.\n",
            "tensorflow 2.8.0 requires tf-estimator-nightly==2.8.0.dev2021122109, which is not installed.\n",
            "multiprocess 0.70.12.2 requires dill>=0.3.4, but you have dill 0.3.1.1 which is incompatible.\n",
            "jupyter-console 5.2.0 requires prompt-toolkit<2.0.0,>=1.0.0, but you have prompt-toolkit 3.0.28 which is incompatible.\n",
            "gym 0.17.3 requires cloudpickle<1.7.0,>=1.2.0, but you have cloudpickle 2.0.0 which is incompatible.\n",
            "google-colab 1.0.0 requires ipykernel~=4.10, but you have ipykernel 5.5.6 which is incompatible.\n",
            "google-colab 1.0.0 requires ipython~=5.5.0, but you have ipython 7.32.0 which is incompatible.\n",
            "google-colab 1.0.0 requires requests~=2.23.0, but you have requests 2.27.1 which is incompatible.\n",
            "datascience 0.10.6 requires folium==0.2.1, but you have folium 0.8.3 which is incompatible.\u001b[0m\n",
            "Successfully installed apache-beam-2.37.0 cloudpickle-2.0.0 dill-0.3.1.1 facets-overview-1.0.0 fastavro-1.4.10 hdfs-2.7.0 ipykernel-5.5.6 ipython-7.32.0 jupyter-client-6.1.12 orjson-3.6.7 prompt-toolkit-3.0.28 proto-plus-1.20.3 protobuf-3.19.4 pymongo-3.12.3 requests-2.27.1 timeloop-1.0.2\n"
          ]
        },
        {
          "output_type": "display_data",
          "data": {
            "application/vnd.colab-display-data+json": {
              "pip_warning": {
                "packages": [
                  "IPython",
                  "google",
                  "ipykernel",
                  "jupyter_client",
                  "prompt_toolkit"
                ]
              }
            }
          },
          "metadata": {}
        }
      ],
      "source": [
        "pip install apache-beam[interactive]"
      ]
    },
    {
      "cell_type": "code",
      "source": [
        ""
      ],
      "metadata": {
        "id": "-801SwyHLOi9"
      },
      "execution_count": 2,
      "outputs": []
    },
    {
      "cell_type": "code",
      "source": [
        "!wget https://raw.githubusercontent.com/HedersonSantos/RegDatChallg/main/data/train.csv"
      ],
      "metadata": {
        "colab": {
          "base_uri": "https://localhost:8080/"
        },
        "id": "WhRJrX6sNbx_",
        "outputId": "bd1b5a5c-8829-4922-c8b8-0e3058e2dd0c"
      },
      "execution_count": 3,
      "outputs": [
        {
          "output_type": "stream",
          "name": "stdout",
          "text": [
            "--2022-03-29 10:48:48--  https://raw.githubusercontent.com/HedersonSantos/RegDatChallg/main/data/train.csv\n",
            "Resolving raw.githubusercontent.com (raw.githubusercontent.com)... 185.199.108.133, 185.199.109.133, 185.199.110.133, ...\n",
            "Connecting to raw.githubusercontent.com (raw.githubusercontent.com)|185.199.108.133|:443... connected.\n",
            "HTTP request sent, awaiting response... 200 OK\n",
            "Length: 1397869 (1.3M) [text/plain]\n",
            "Saving to: ‘train.csv’\n",
            "\n",
            "train.csv           100%[===================>]   1.33M  --.-KB/s    in 0.03s   \n",
            "\n",
            "2022-03-29 10:48:48 (38.1 MB/s) - ‘train.csv’ saved [1397869/1397869]\n",
            "\n"
          ]
        }
      ]
    },
    {
      "cell_type": "code",
      "source": [
        "#criando um registro\n",
        "import apache_beam as beam\n",
        "p1 = beam.Pipeline()\n",
        "p1 | \"Tupla\" >> beam.Create([(\"Cassio\",32), (\"Vick\",21)])| \"imprime Tupla\" >> beam.Map(print)\n",
        "p1 | \"Lista\" >> beam.Create([1,2,3]) | \"imprime Lista\" >> beam.Map(print, end=' ')\n",
        "p1.run()\n"
      ],
      "metadata": {
        "colab": {
          "base_uri": "https://localhost:8080/",
          "height": 90
        },
        "id": "kV7CnfwgP61S",
        "outputId": "1cc54ba0-9e2b-4197-f7e5-bc7985a4d390"
      },
      "execution_count": 6,
      "outputs": [
        {
          "output_type": "display_data",
          "data": {
            "application/javascript": [
              "\n",
              "        if (typeof window.interactive_beam_jquery == 'undefined') {\n",
              "          var jqueryScript = document.createElement('script');\n",
              "          jqueryScript.src = 'https://code.jquery.com/jquery-3.4.1.slim.min.js';\n",
              "          jqueryScript.type = 'text/javascript';\n",
              "          jqueryScript.onload = function() {\n",
              "            var datatableScript = document.createElement('script');\n",
              "            datatableScript.src = 'https://cdn.datatables.net/1.10.20/js/jquery.dataTables.min.js';\n",
              "            datatableScript.type = 'text/javascript';\n",
              "            datatableScript.onload = function() {\n",
              "              window.interactive_beam_jquery = jQuery.noConflict(true);\n",
              "              window.interactive_beam_jquery(document).ready(function($){\n",
              "                \n",
              "              });\n",
              "            }\n",
              "            document.head.appendChild(datatableScript);\n",
              "          };\n",
              "          document.head.appendChild(jqueryScript);\n",
              "        } else {\n",
              "          window.interactive_beam_jquery(document).ready(function($){\n",
              "            \n",
              "          });\n",
              "        }"
            ]
          },
          "metadata": {}
        },
        {
          "output_type": "stream",
          "name": "stderr",
          "text": [
            "WARNING:root:Make sure that locally built Python SDK docker image has Python 3.7 interpreter.\n"
          ]
        },
        {
          "output_type": "stream",
          "name": "stdout",
          "text": [
            "('Cassio', 32)\n",
            "('Vick', 21)\n",
            "1 2 3 "
          ]
        },
        {
          "output_type": "execute_result",
          "data": {
            "text/plain": [
              "<apache_beam.runners.portability.fn_api_runner.fn_runner.RunnerResult at 0x7fabf0f3e110>"
            ]
          },
          "metadata": {},
          "execution_count": 6
        }
      ]
    },
    {
      "cell_type": "code",
      "source": [
        "import apache_beam as beam\n",
        "p1 = beam.Pipeline()\n",
        "#cria o objeto Pcollection para reutiliza-lo\n",
        "#registros é uma PCollection\n",
        "registros = (\n",
        "    # as strings antes dos comandos (antes de >>) são tags. No DataFlow estas tags são utilizadas para identificar cada passo. É uma boa prática utilizá-las.\n",
        "    p1\n",
        "    |\"Importar Dados\" >> beam.io.ReadFromText(\"train.csv\", validate=True, skip_header_lines=1)\n",
        "    |\"Separar por Vírgulas\" >> beam.Map(lambda record: record.split(','))\n",
        "    #|\"Mostrar Resultados\" >> beam.Map(lambda x: print(x)) \n",
        "    |\"Filtrar score\" >> beam.Filter(lambda record: (record[1]>'10') & (record[1]<'20'))\n",
        "    |\"Gravar Resultados\" >> beam.io.WriteToText(\"teste.csv\")\n",
        ")\n",
        "#roda a pipeline p1 (de forma assincrona)\n",
        "p1.run()"
      ],
      "metadata": {
        "colab": {
          "base_uri": "https://localhost:8080/"
        },
        "id": "Xssea9fGLTeK",
        "outputId": "33e407cb-0349-4875-93f0-53911d4689ee"
      },
      "execution_count": 7,
      "outputs": [
        {
          "output_type": "stream",
          "name": "stderr",
          "text": [
            "WARNING:root:Make sure that locally built Python SDK docker image has Python 3.7 interpreter.\n"
          ]
        },
        {
          "output_type": "execute_result",
          "data": {
            "text/plain": [
              "<apache_beam.runners.portability.fn_api_runner.fn_runner.RunnerResult at 0x7fabf0ed6690>"
            ]
          },
          "metadata": {},
          "execution_count": 7
        }
      ]
    },
    {
      "cell_type": "code",
      "source": [
        ""
      ],
      "metadata": {
        "id": "La-s2_zoWGmd"
      },
      "execution_count": null,
      "outputs": []
    },
    {
      "cell_type": "code",
      "source": [
        "!wget https://raw.githubusercontent.com/HedersonSantos/Noticias/main/dataset/valid.csv"
      ],
      "metadata": {
        "colab": {
          "base_uri": "https://localhost:8080/"
        },
        "id": "A_QBVhRJVIhA",
        "outputId": "0aadad33-6ec1-4ceb-e926-0d1249f61d46"
      },
      "execution_count": 8,
      "outputs": [
        {
          "output_type": "stream",
          "name": "stdout",
          "text": [
            "--2022-03-29 10:49:21--  https://raw.githubusercontent.com/HedersonSantos/Noticias/main/dataset/valid.csv\n",
            "Resolving raw.githubusercontent.com (raw.githubusercontent.com)... 185.199.110.133, 185.199.108.133, 185.199.111.133, ...\n",
            "Connecting to raw.githubusercontent.com (raw.githubusercontent.com)|185.199.110.133|:443... connected.\n",
            "HTTP request sent, awaiting response... 200 OK\n",
            "Length: 766613 (749K) [text/plain]\n",
            "Saving to: ‘valid.csv’\n",
            "\n",
            "valid.csv           100%[===================>] 748.65K  --.-KB/s    in 0.03s   \n",
            "\n",
            "2022-03-29 10:49:21 (23.2 MB/s) - ‘valid.csv’ saved [766613/766613]\n",
            "\n"
          ]
        }
      ]
    },
    {
      "cell_type": "code",
      "source": [
        "#FlatMap\n",
        "import apache_beam as beam\n",
        "\n",
        "palavras = ['cachorro', 'animal','Europa']\n",
        "\n",
        "def encontrarPalavras(i):\n",
        "  if i in palavras:\n",
        "    return True\n",
        "\n",
        "p1 = beam.Pipeline()\n",
        "#cria o objeto Pcollection para reutiliza-lo\n",
        "#registros é uma PCollection\n",
        "registros = (\n",
        "    # as strings antes dos comandos (antes de >>) são tags. No DataFlow estas tags são utilizadas para identificar cada passo. É uma boa prática utilizá-las.\n",
        "    p1\n",
        "    |\"Importar Dados\" >> beam.io.ReadFromText(\"valid.csv\", validate=True, skip_header_lines=1)\n",
        "    |\"Quebrar por palavras\" >> beam.FlatMap(lambda record: record.split(' ')) #FlatMap irá gerar uma linha a cada espaço, i.e, uma palavra em cada linha.\n",
        "    |\"Encontrar palavras\" >> beam.Filter(encontrarPalavras)\n",
        "    |\"Mostrar Resultados\" >> beam.Map(lambda x: print(x)) \n",
        "    |\"Gravar Resultados\" >> beam.io.WriteToText(\"teste_palavras.csv\")\n",
        "    \n",
        ")\n",
        "#roda a pipeline p1 (de forma assincrona)\n",
        "p1.run()"
      ],
      "metadata": {
        "colab": {
          "base_uri": "https://localhost:8080/"
        },
        "id": "twpvSsowTSKA",
        "outputId": "926ed59d-1969-413f-c917-c7f530ed996a"
      },
      "execution_count": 9,
      "outputs": [
        {
          "output_type": "stream",
          "name": "stderr",
          "text": [
            "WARNING:root:Make sure that locally built Python SDK docker image has Python 3.7 interpreter.\n"
          ]
        },
        {
          "output_type": "stream",
          "name": "stdout",
          "text": [
            "Europa\n",
            "Europa\n",
            "Europa\n",
            "Europa\n",
            "cachorro\n",
            "Europa\n",
            "animal\n"
          ]
        },
        {
          "output_type": "execute_result",
          "data": {
            "text/plain": [
              "<apache_beam.runners.portability.fn_api_runner.fn_runner.RunnerResult at 0x7fabf26411d0>"
            ]
          },
          "metadata": {},
          "execution_count": 9
        }
      ]
    },
    {
      "cell_type": "code",
      "source": [
        "p = beam.Pipeline()\n",
        "\n",
        "#tuplas\n",
        "negros = ('Machado Assis', 'Edson Arantes', 'Barack Obama')\n",
        "brancos = ('FHC', 'Carlos Drummond', 'Autelina')\n",
        "indios = ('Juruna', 'Raoni', 'Galdino')\n",
        "#p_collections\n",
        "negros_pc = p | \"Criando Pcollection negros\" >> beam.Create(negros)\n",
        "brancos_pc = p | \"Criando Pcollection brancos\" >> beam.Create(brancos)\n",
        "indios_pc = p | \"Criando Pcollections indios\" >> beam.Create(indios)\n",
        "\n",
        "pessoas = ((negros_pc, brancos_pc, indios_pc) | beam.Flatten()) | beam.Map(print)\n",
        "p.run()\n",
        "\n"
      ],
      "metadata": {
        "colab": {
          "base_uri": "https://localhost:8080/"
        },
        "id": "xXDiBpCzaVT2",
        "outputId": "64a73e4e-c188-41dc-dd12-b75474be7a6c"
      },
      "execution_count": 11,
      "outputs": [
        {
          "output_type": "stream",
          "name": "stderr",
          "text": [
            "WARNING:root:Make sure that locally built Python SDK docker image has Python 3.7 interpreter.\n"
          ]
        },
        {
          "output_type": "stream",
          "name": "stdout",
          "text": [
            "FHC\n",
            "Carlos Drummond\n",
            "Autelina\n",
            "Juruna\n",
            "Raoni\n",
            "Galdino\n",
            "Machado Assis\n",
            "Edson Arantes\n",
            "Barack Obama\n"
          ]
        },
        {
          "output_type": "execute_result",
          "data": {
            "text/plain": [
              "<apache_beam.runners.portability.fn_api_runner.fn_runner.RunnerResult at 0x7fabf0afa150>"
            ]
          },
          "metadata": {},
          "execution_count": 11
        }
      ]
    },
    {
      "cell_type": "code",
      "source": [
        "#agregação - soma de valores\n",
        "p1 = beam.Pipeline()\n",
        "#cria o objeto Pcollection para reutiliza-lo\n",
        "#registros é uma PCollection\n",
        "Tempo_Atrasos = (\n",
        "    # as strings antes dos comandos (antes de >>) são tags. No DataFlow estas tags são utilizadas para identificar cada passo. É uma boa prática utilizá-las.\n",
        "    p1\n",
        "    |\"Importar Dados\" >> beam.io.ReadFromText(\"voos_sample.csv\", validate=True, skip_header_lines=1)\n",
        "    |\"Separar voos por Vírgulas\" >> beam.Map(lambda record: record.split(','))\n",
        "    |\"Filtrar voos atrasados\" >> beam.Filter(lambda record: int(record[8])>0 ) #nesta coluna nros positivos significa voo atrasado, i.e, o tempo de atraso\n",
        "    |\"Criar par\" >> beam.Map(lambda record: (record[4],int(record[8]))) #record 4 é a sigla do aeroporto\n",
        "    |\"Somar por key\" >> beam.CombinePerKey(sum)\n",
        "    |\"Mostrar Resultados\" >> beam.Map(lambda x: print(x)) \n",
        ")\n",
        "#roda a pipeline p1 (de forma assincrona)\n",
        "p1.run()"
      ],
      "metadata": {
        "colab": {
          "base_uri": "https://localhost:8080/"
        },
        "id": "J7BnyP5bcCF5",
        "outputId": "e7925dba-350d-48df-d519-5f92eaa89efe"
      },
      "execution_count": 18,
      "outputs": [
        {
          "output_type": "stream",
          "name": "stderr",
          "text": [
            "WARNING:root:Make sure that locally built Python SDK docker image has Python 3.7 interpreter.\n"
          ]
        },
        {
          "output_type": "stream",
          "name": "stdout",
          "text": [
            "('LAX', 92)\n",
            "('HNL', 15)\n",
            "('DFW', 95)\n",
            "('OGG', 138)\n",
            "('JFK', 220)\n"
          ]
        },
        {
          "output_type": "execute_result",
          "data": {
            "text/plain": [
              "<apache_beam.runners.portability.fn_api_runner.fn_runner.RunnerResult at 0x7fabf07bbd50>"
            ]
          },
          "metadata": {},
          "execution_count": 18
        }
      ]
    },
    {
      "cell_type": "code",
      "source": [
        "#agregação - contagem de registros\n",
        "p1 = beam.Pipeline()\n",
        "#cria o objeto Pcollection para reutiliza-lo\n",
        "#registros é uma PCollection\n",
        "Qtd_Atrasos = (\n",
        "    # as strings antes dos comandos (antes de >>) são tags. No DataFlow estas tags são utilizadas para identificar cada passo. É uma boa prática utilizá-las.\n",
        "    p1\n",
        "    |\"Importar Dados\" >> beam.io.ReadFromText(\"voos_sample.csv\", validate=True, skip_header_lines=1)\n",
        "    |\"Separar voos por Vírgulas\" >> beam.Map(lambda record: record.split(','))\n",
        "    |\"Filtrar voos atrasados\" >> beam.Filter(lambda record: int(record[8])>0 ) #nesta coluna nros positivos significa voo atrasado, i.e, o tempo de atraso\n",
        "    |\"Criar par\" >> beam.Map(lambda record: (record[4],int(record[8]))) #record 4 é a sigla do aeroporto\n",
        "    |\"Contar por key\" >> beam.combiners.Count.PerKey()\n",
        "    |\"Mostrar Resultados\" >> beam.Map(lambda x: print(x)) \n",
        "    \n",
        "    \n",
        ")\n",
        "#roda a pipeline p1 (de forma assincrona)\n",
        "p1.run()"
      ],
      "metadata": {
        "colab": {
          "base_uri": "https://localhost:8080/"
        },
        "id": "ABqNUeUWch-J",
        "outputId": "0f9c75cb-7ea4-4592-d000-df3972f0e744"
      },
      "execution_count": 16,
      "outputs": [
        {
          "output_type": "stream",
          "name": "stderr",
          "text": [
            "WARNING:root:Make sure that locally built Python SDK docker image has Python 3.7 interpreter.\n"
          ]
        },
        {
          "output_type": "stream",
          "name": "stdout",
          "text": [
            "('LAX', 4)\n",
            "('HNL', 1)\n",
            "('DFW', 1)\n",
            "('OGG', 1)\n",
            "('JFK', 4)\n"
          ]
        },
        {
          "output_type": "execute_result",
          "data": {
            "text/plain": [
              "<apache_beam.runners.portability.fn_api_runner.fn_runner.RunnerResult at 0x7fabf0454f50>"
            ]
          },
          "metadata": {},
          "execution_count": 16
        }
      ]
    },
    {
      "cell_type": "code",
      "source": [
        "#CoGroupByKey Faz o join de duas pcollections.\n",
        "p1 = beam.Pipeline()\n",
        "\n",
        "Tempo_Atrasos = (\n",
        "  p1\n",
        "  | \"Importar Dados Atraso\" >> beam.io.ReadFromText(\"voos_sample.csv\", skip_header_lines = 1)\n",
        "  | \"Separar por Vírgulas Atraso\" >> beam.Map(lambda record: record.split(','))\n",
        "  | \"Pegar voos com atraso\" >> beam.Filter(lambda record: int(record[8]) > 0 )\n",
        "  | \"Criar par atraso\" >> beam.Map(lambda record: (record[4],int(record[8])))\n",
        "  | \"Somar por key\" >> beam.CombinePerKey(sum)\n",
        "#  | \"Mostrar Resultados\" >> beam.Map(print)\n",
        ")\n",
        "\n",
        "Qtd_Atrasos = (\n",
        "  p1\n",
        "  | \"Importar Dados\" >> beam.io.ReadFromText(\"voos_sample.csv\", skip_header_lines = 1)\n",
        "  | \"Separar por Vírgulas\" >> beam.Map(lambda record: record.split(','))\n",
        "  | \"Pegar voos com atraso qtd\" >> beam.Filter(lambda record: int(record[8]) > 0 )\n",
        "  | \"Criar par qtd\" >> beam.Map(lambda record: (record[4],int(record[8])))\n",
        "  | \"Contar por key\" >> beam.combiners.Count.PerKey()\n",
        "#  | \"Mostrar Resultados QTD\" >> beam.Map(print)\n",
        ")\n",
        "\n",
        "tabela_atrasos = (\n",
        "    {'Qtd_Atrasos':Qtd_Atrasos,'Tempo_Atrasos':Tempo_Atrasos} \n",
        "    | \"Group By\" >> beam.CoGroupByKey()\n",
        "    | beam.Map(print)\n",
        ")\n",
        "\n",
        "p1.run()"
      ],
      "metadata": {
        "colab": {
          "base_uri": "https://localhost:8080/"
        },
        "id": "Rfx_AM8rV5vQ",
        "outputId": "94e08786-d7e7-49a0-aae0-b5f896af526d"
      },
      "execution_count": 25,
      "outputs": [
        {
          "output_type": "stream",
          "name": "stderr",
          "text": [
            "WARNING:root:Make sure that locally built Python SDK docker image has Python 3.7 interpreter.\n"
          ]
        },
        {
          "output_type": "stream",
          "name": "stdout",
          "text": [
            "('LAX', {'Qtd_Atrasos': [4], 'Tempo_Atrasos': [92]})\n",
            "('HNL', {'Qtd_Atrasos': [1], 'Tempo_Atrasos': [15]})\n",
            "('DFW', {'Qtd_Atrasos': [1], 'Tempo_Atrasos': [95]})\n",
            "('OGG', {'Qtd_Atrasos': [1], 'Tempo_Atrasos': [138]})\n",
            "('JFK', {'Qtd_Atrasos': [4], 'Tempo_Atrasos': [220]})\n"
          ]
        },
        {
          "output_type": "execute_result",
          "data": {
            "text/plain": [
              "<apache_beam.runners.portability.fn_api_runner.fn_runner.RunnerResult at 0x7fabf0534590>"
            ]
          },
          "metadata": {},
          "execution_count": 25
        }
      ]
    },
    {
      "cell_type": "code",
      "source": [
        "#função ParDO -> permite criar uma função de usuário e chamar no Map\n",
        "p1 = beam.Pipeline()\n",
        "\n",
        "class filtro(beam.DoFn):\n",
        "  def process(self, record):\n",
        "    if int(record[8])>0:\n",
        "      return [record]\n",
        "\n",
        "Tempo_Atrasos = (\n",
        "  p1\n",
        "  | \"Importar Dados Atraso\" >> beam.io.ReadFromText(\"voos_sample.csv\", skip_header_lines = 1)\n",
        "  | \"Separar por Vírgulas Atraso\" >> beam.Map(lambda record: record.split(','))\n",
        "  | \"Pegar voos com atraso\" >> beam.ParDo(filtro())\n",
        "  | \"Criar par atraso\" >> beam.Map(lambda record: (record[4],int(record[8])))\n",
        "  | \"Somar por key\" >> beam.CombinePerKey(sum)\n",
        "#  | \"Mostrar Resultados\" >> beam.Map(print)\n",
        ")\n",
        "\n",
        "Qtd_Atrasos = (\n",
        "  p1\n",
        "  | \"Importar Dados\" >> beam.io.ReadFromText(\"voos_sample.csv\", skip_header_lines = 1)\n",
        "  | \"Separar por Vírgulas\" >> beam.Map(lambda record: record.split(','))\n",
        "  | \"Pegar voos com atraso qtd\" >> beam.Filter(lambda record: int(record[8]) > 0 )\n",
        "  | \"Criar par qtd\" >> beam.Map(lambda record: (record[4],int(record[8])))\n",
        "  | \"Contar por key\" >> beam.combiners.Count.PerKey()\n",
        "#  | \"Mostrar Resultados QTD\" >> beam.Map(print)\n",
        ")\n",
        "\n",
        "tabela_atrasos = (\n",
        "    {'Qtd_Atrasos':Qtd_Atrasos,'Tempo_Atrasos':Tempo_Atrasos} \n",
        "    | \"Group By\" >> beam.CoGroupByKey()\n",
        "    | beam.Map(print)\n",
        ")\n",
        "\n",
        "p1.run()"
      ],
      "metadata": {
        "colab": {
          "base_uri": "https://localhost:8080/"
        },
        "id": "TGyWegJxZCd8",
        "outputId": "6c601cf1-4074-46ce-ae4a-8e29d99bb23d"
      },
      "execution_count": 26,
      "outputs": [
        {
          "output_type": "stream",
          "name": "stderr",
          "text": [
            "WARNING:root:Make sure that locally built Python SDK docker image has Python 3.7 interpreter.\n"
          ]
        },
        {
          "output_type": "stream",
          "name": "stdout",
          "text": [
            "('LAX', {'Qtd_Atrasos': [4], 'Tempo_Atrasos': [92]})\n",
            "('HNL', {'Qtd_Atrasos': [1], 'Tempo_Atrasos': [15]})\n",
            "('DFW', {'Qtd_Atrasos': [1], 'Tempo_Atrasos': [95]})\n",
            "('OGG', {'Qtd_Atrasos': [1], 'Tempo_Atrasos': [138]})\n",
            "('JFK', {'Qtd_Atrasos': [4], 'Tempo_Atrasos': [220]})\n"
          ]
        },
        {
          "output_type": "execute_result",
          "data": {
            "text/plain": [
              "<apache_beam.runners.portability.fn_api_runner.fn_runner.RunnerResult at 0x7fabeeba3050>"
            ]
          },
          "metadata": {},
          "execution_count": 26
        }
      ]
    }
  ]
}